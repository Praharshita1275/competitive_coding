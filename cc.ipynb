{
  "nbformat": 4,
  "nbformat_minor": 0,
  "metadata": {
    "colab": {
      "provenance": [],
      "authorship_tag": "ABX9TyNXwIqasZtKqophzVGBBzYS",
      "include_colab_link": true
    },
    "kernelspec": {
      "name": "python3",
      "display_name": "Python 3"
    },
    "language_info": {
      "name": "python"
    }
  },
  "cells": [
    {
      "cell_type": "markdown",
      "metadata": {
        "id": "view-in-github",
        "colab_type": "text"
      },
      "source": [
        "<a href=\"https://colab.research.google.com/github/Praharshita1275/competitive_coding/blob/main/cc.ipynb\" target=\"_parent\"><img src=\"https://colab.research.google.com/assets/colab-badge.svg\" alt=\"Open In Colab\"/></a>"
      ]
    },
    {
      "cell_type": "code",
      "execution_count": null,
      "metadata": {
        "colab": {
          "base_uri": "https://localhost:8080/"
        },
        "id": "6fhRVUjM2xx8",
        "outputId": "ca7fab12-ad4f-42e3-ad8b-b24a6ef28075"
      },
      "outputs": [
        {
          "output_type": "stream",
          "name": "stdout",
          "text": [
            "[0, 1]\n"
          ]
        }
      ],
      "source": [
        "#1) Two Sum\n",
        "class Solution:\n",
        "    def twoSum(self, nums, target):\n",
        "        lookup = {}\n",
        "        for i, num in enumerate(nums):\n",
        "            diff = target - num\n",
        "            if diff in lookup:\n",
        "                return [lookup[diff], i]\n",
        "            lookup[num] = i\n",
        "        return []\n",
        "\n",
        "    nums = [2, 7, 11, 15]\n",
        "    target = 9\n",
        "    sol = Solution()\n",
        "    print(sol.twoSum(nums, target))  # Output: [0, 1]"
      ]
    },
    {
      "cell_type": "code",
      "source": [
        "#2)Set Matrix Zeros\n",
        "from typing import List\n",
        "\n",
        "class Solution:\n",
        "    def setZeroes(self, matrix):\n",
        "        m, n = len(matrix), len(matrix[0])\n",
        "        first_row_zero = any(matrix[0][j] == 0 for j in range(n))\n",
        "        first_col_zero = any(matrix[i][0] == 0 for i in range(m))\n",
        "\n",
        "        # Mark rows and columns\n",
        "        for i in range(1, m):\n",
        "            for j in range(1, n):\n",
        "                if matrix[i][j] == 0:\n",
        "                    matrix[i][0] = 0\n",
        "                    matrix[0][j] = 0\n",
        "\n",
        "        # Set zeroes based on markers\n",
        "        for i in range(1, m):\n",
        "            for j in range(1, n):\n",
        "                if matrix[i][0] == 0 or matrix[0][j] == 0:\n",
        "                    matrix[i][j] = 0\n",
        "\n",
        "        # Handle first row\n",
        "        if first_row_zero:\n",
        "            for j in range(n):\n",
        "                matrix[0][j] = 0\n",
        "\n",
        "        # Handle first column\n",
        "        if first_col_zero:\n",
        "            for i in range(m):\n",
        "                matrix[i][0] = 0\n",
        "\n",
        "\n",
        "# Example run\n",
        "matrix = [\n",
        "    [1, 1, 1],\n",
        "    [1, 0, 1],\n",
        "    [1, 1, 1]\n",
        "]\n",
        "Solution().setZeroes(matrix)\n",
        "print(matrix)  # Output: [[1,0,1],[0,0,0],[1,0,1]]\n"
      ],
      "metadata": {
        "colab": {
          "base_uri": "https://localhost:8080/"
        },
        "id": "YrV0JWQr7nvx",
        "outputId": "2d52f621-074d-48a9-c4b5-6045ff1aa97c"
      },
      "execution_count": null,
      "outputs": [
        {
          "output_type": "stream",
          "name": "stdout",
          "text": [
            "[[1, 0, 1], [0, 0, 0], [1, 0, 1]]\n"
          ]
        }
      ]
    },
    {
      "cell_type": "code",
      "source": [
        "#3)Pascal's Triangle\n",
        "class Solution(object):\n",
        "    def generate(self, numRows):\n",
        "        triangle = []\n",
        "\n",
        "        for i in range(numRows):\n",
        "            row = [1] * (i + 1)\n",
        "            for j in range(1, i):\n",
        "                row[j] = triangle[i-1][j-1] + triangle[i-1][j]\n",
        "            triangle.append(row)\n",
        "\n",
        "        return triangle\n",
        "\n",
        "\n",
        "# test\n",
        "sol = Solution()\n",
        "print(sol.generate(5))\n"
      ],
      "metadata": {
        "colab": {
          "base_uri": "https://localhost:8080/"
        },
        "id": "Ut5QngZJ9F33",
        "outputId": "93f306c5-51b0-4406-c117-fec2bc03f173"
      },
      "execution_count": null,
      "outputs": [
        {
          "output_type": "stream",
          "name": "stdout",
          "text": [
            "[[1], [1, 1], [1, 2, 1], [1, 3, 3, 1], [1, 4, 6, 4, 1]]\n"
          ]
        }
      ]
    },
    {
      "cell_type": "code",
      "source": [
        "#4)Next permutation'\n",
        "from typing import List\n",
        "\n",
        "class Solution:\n",
        "    def nextPermutation(self, nums):\n",
        "        n = len(nums)\n",
        "        i = n - 2\n",
        "\n",
        "        # Step 1: find first decreasing index\n",
        "        while i >= 0 and nums[i] >= nums[i + 1]:\n",
        "            i -= 1\n",
        "\n",
        "        if i >= 0:\n",
        "            # Step 2: find just larger element & swap\n",
        "            j = n - 1\n",
        "            while nums[j] <= nums[i]:\n",
        "                j -= 1\n",
        "            nums[i], nums[j] = nums[j], nums[i]\n",
        "\n",
        "        # Step 3: reverse suffix using slicing\n",
        "        nums[i+1:] = reversed(nums[i+1:])\n",
        "\n",
        "\n",
        "# Test\n",
        "nums = [1, 2, 3]\n",
        "sol = Solution()\n",
        "sol.nextPermutation(nums)\n",
        "print(nums)  # Output: [1, 3, 2]\n"
      ],
      "metadata": {
        "colab": {
          "base_uri": "https://localhost:8080/"
        },
        "id": "NIt89nz2Fpm8",
        "outputId": "bfa2b70e-8b80-4249-ed6d-40c227b8893c"
      },
      "execution_count": null,
      "outputs": [
        {
          "output_type": "stream",
          "name": "stdout",
          "text": [
            "[1, 3, 2]\n"
          ]
        }
      ]
    },
    {
      "cell_type": "code",
      "source": [
        "#5)kadanes algorithm\n",
        "def maxSubArray(nums):\n",
        "    max_sum = nums[0]\n",
        "    curr_sum = nums[0]\n",
        "\n",
        "    for num in nums[1:]:\n",
        "        curr_sum = max(num, curr_sum + num)  # either extend or start fresh\n",
        "        max_sum = max(max_sum, curr_sum)     # update best answer\n",
        "\n",
        "    return max_sum\n",
        "print(maxSubArray([-2,1,-3,4,-1,2,1,-5,4]))"
      ],
      "metadata": {
        "colab": {
          "base_uri": "https://localhost:8080/"
        },
        "id": "BabNWtuAGm0t",
        "outputId": "e8cac47c-396d-44dc-bd95-67bf0a61fab4"
      },
      "execution_count": null,
      "outputs": [
        {
          "output_type": "stream",
          "name": "stdout",
          "text": [
            "6\n"
          ]
        }
      ]
    },
    {
      "cell_type": "code",
      "source": [
        "#6.\tSort an array of 0's, 1's and 2's\n",
        "class Solution(object):\n",
        "    def sortColors(self, nums):\n",
        "        low, mid, high = 0, 0, len(nums) - 1\n",
        "\n",
        "        while mid <= high:\n",
        "            if nums[mid] == 0:       # move 0s to the front\n",
        "                nums[low], nums[mid] = nums[mid], nums[low]\n",
        "                low += 1\n",
        "                mid += 1\n",
        "            elif nums[mid] == 1:     # leave 1s in place\n",
        "                mid += 1\n",
        "            else:                    # move 2s to the end\n",
        "                nums[mid], nums[high] = nums[high], nums[mid]\n",
        "                high -= 1\n",
        "nums = [2, 0, 2, 1, 1, 0]\n",
        "Solution().sortColors(nums)\n",
        "print(nums)\n"
      ],
      "metadata": {
        "id": "uAkBaLBLKgoW",
        "colab": {
          "base_uri": "https://localhost:8080/"
        },
        "outputId": "b01a95f1-ca6d-48a4-f715-9f4cada88a04"
      },
      "execution_count": null,
      "outputs": [
        {
          "output_type": "stream",
          "name": "stdout",
          "text": [
            "[0, 0, 1, 1, 2, 2]\n"
          ]
        }
      ]
    },
    {
      "cell_type": "code",
      "source": [
        "#7.\tStock Buy and Sell\n",
        "from typing import List\n",
        "\n",
        "class Solution:\n",
        "    def maxProfit(self, prices):\n",
        "        min_price = float('inf')\n",
        "        max_profit = 0\n",
        "\n",
        "        for price in prices:\n",
        "            min_price = min(min_price, price)           # keep track of lowest price\n",
        "            max_profit = max(max_profit, price - min_price)  # check profit at this price\n",
        "\n",
        "        return max_profit\n",
        "print(Solution().maxProfit([7,1,5,3,6,4]))"
      ],
      "metadata": {
        "colab": {
          "base_uri": "https://localhost:8080/"
        },
        "id": "4KDaOgXNZ0Kj",
        "outputId": "3fee2350-809b-46c0-8983-1f46e7da62fa"
      },
      "execution_count": null,
      "outputs": [
        {
          "output_type": "stream",
          "name": "stdout",
          "text": [
            "5\n"
          ]
        }
      ]
    },
    {
      "cell_type": "code",
      "source": [
        "#8.\tRotate Matrix\n",
        "from typing import List\n",
        "\n",
        "class Solution:\n",
        "    def rotate(self, matrix):\n",
        "\n",
        "        n = len(matrix)\n",
        "\n",
        "        # Step 1: Transpose the matrix\n",
        "        for i in range(n):\n",
        "            for j in range(i+1, n):\n",
        "                matrix[i][j], matrix[j][i] = matrix[j][i], matrix[i][j]\n",
        "\n",
        "        # Step 2: Reverse each row\n",
        "        for i in range(n):\n",
        "            matrix[i].reverse()\n",
        "matrix = [\n",
        "    [1,2,3],\n",
        "    [4,5,6],\n",
        "    [7,8,9]\n",
        "]\n",
        "\n",
        "Solution().rotate(matrix)\n",
        "print(matrix)\n"
      ],
      "metadata": {
        "colab": {
          "base_uri": "https://localhost:8080/"
        },
        "id": "3wkc6r91Z2_X",
        "outputId": "ff2f7149-6bb2-4a7b-d4bb-f385bf7ef6e6"
      },
      "execution_count": null,
      "outputs": [
        {
          "output_type": "stream",
          "name": "stdout",
          "text": [
            "[[7, 4, 1], [8, 5, 2], [9, 6, 3]]\n"
          ]
        }
      ]
    },
    {
      "cell_type": "code",
      "source": [
        "#9.\tMerge Overlapping Subintervals\n",
        "from typing import List\n",
        "\n",
        "class Solution:\n",
        "    def merge(self, intervals):\n",
        "        if not intervals:\n",
        "            return []\n",
        "\n",
        "        # Step 1: Sort intervals by start time\n",
        "        intervals.sort(key=lambda x: x[0])\n",
        "\n",
        "        merged = [intervals[0]]\n",
        "\n",
        "        for curr in intervals[1:]:\n",
        "            prev = merged[-1]\n",
        "            if curr[0] <= prev[1]:      # overlap\n",
        "                prev[1] = max(prev[1], curr[1])\n",
        "            else:\n",
        "                merged.append(curr)\n",
        "\n",
        "        return merged\n",
        "intervals = [[1,3],[2,6],[8,10],[15,18]]\n",
        "print(Solution().merge(intervals))\n",
        "# Output: [[1,6],[8,10],[15,18]]\n",
        "\n",
        "intervals = [[1,4],[4,5]]\n",
        "print(Solution().merge(intervals))\n",
        "# Output: [[1,5]]\n"
      ],
      "metadata": {
        "id": "24GdYW9ygktx",
        "colab": {
          "base_uri": "https://localhost:8080/"
        },
        "outputId": "f5ce0c8f-4613-49c9-8d0c-23ee9d27ff46"
      },
      "execution_count": null,
      "outputs": [
        {
          "output_type": "stream",
          "name": "stdout",
          "text": [
            "[[1, 6], [8, 10], [15, 18]]\n",
            "[[1, 5]]\n"
          ]
        }
      ]
    },
    {
      "cell_type": "code",
      "source": [
        "#10.\tMerge two sorted arrays without extra space\n",
        "from typing import List\n",
        "\n",
        "class Solution:\n",
        "    def merge(self, nums1, m, nums2, n):\n",
        "        i, j, k = m - 1, n - 1, m + n - 1   # pointers at the end\n",
        "\n",
        "        while j >= 0:                       # only need to check nums2\n",
        "            if i >= 0 and nums1[i] > nums2[j]:\n",
        "                nums1[k] = nums1[i]\n",
        "                i -= 1\n",
        "            else:\n",
        "                nums1[k] = nums2[j]\n",
        "                j -= 1\n",
        "            k -= 1\n",
        "nums1 = [1,2,3,0,0,0]\n",
        "m = 3\n",
        "nums2 = [2,5,6]\n",
        "n = 3\n",
        "\n",
        "Solution().merge(nums1, m, nums2, n)\n",
        "print(nums1)   # [1, 2, 2, 3, 5, 6]\n"
      ],
      "metadata": {
        "colab": {
          "base_uri": "https://localhost:8080/"
        },
        "id": "YGhXXkFigt0Z",
        "outputId": "ee6584ab-89e0-4a79-9bbf-e4d6c63e14d4"
      },
      "execution_count": null,
      "outputs": [
        {
          "output_type": "stream",
          "name": "stdout",
          "text": [
            "[1, 2, 2, 3, 5, 6]\n"
          ]
        }
      ]
    },
    {
      "cell_type": "code",
      "source": [
        "#11.\tFind the duplicate in an array of N+1 integers\n",
        "class Solution:\n",
        "    def findDuplicate(self, nums):\n",
        "        # Phase 1: Detect cycle\n",
        "        slow = fast = nums[0]\n",
        "        while True:\n",
        "            slow = nums[slow]\n",
        "            fast = nums[nums[fast]]\n",
        "            if slow == fast:\n",
        "                break\n",
        "\n",
        "        # Phase 2: Find entry point of cycle (duplicate number)\n",
        "        slow = nums[0]\n",
        "        while slow != fast:\n",
        "            slow = nums[slow]\n",
        "            fast = nums[fast]\n",
        "\n",
        "        return slow\n",
        "\n",
        "nums = [1,3,4,2,2]\n",
        "print(Solution().findDuplicate(nums))  # Output: 2\n",
        "\n",
        "nums = [3,1,3,4,2]\n",
        "print(Solution().findDuplicate(nums))  # Output: 3\n"
      ],
      "metadata": {
        "id": "Pe9SK99Khf9h",
        "colab": {
          "base_uri": "https://localhost:8080/"
        },
        "outputId": "04777762-047e-4a78-a80d-4d5a8e55c1d4"
      },
      "execution_count": null,
      "outputs": [
        {
          "output_type": "stream",
          "name": "stdout",
          "text": [
            "2\n",
            "3\n"
          ]
        }
      ]
    },
    {
      "cell_type": "code",
      "source": [
        "#12.\tRepeat and Missing Number\n",
        "from typing import List\n",
        "\n",
        "class Solution:\n",
        "    def findErrorNums(self, nums: List[int]) -> List[int]:\n",
        "        n = len(nums)\n",
        "        freq = [0] * (n + 1)\n",
        "        for num in nums:\n",
        "            freq[num] += 1\n",
        "\n",
        "        repeating = missing = 0\n",
        "        for i in range(1, n + 1):\n",
        "            if freq[i] == 2:\n",
        "                repeating = i\n",
        "            elif freq[i] == 0:\n",
        "                missing = i\n",
        "\n",
        "        return [repeating, missing]\n",
        "nums = [1, 2, 2, 4]\n",
        "print(Solution().findErrorNums(nums))  # [2, 3]\n",
        "\n",
        "nums = [1, 1]\n",
        "print(Solution().findErrorNums(nums))  # [1, 2]\n"
      ],
      "metadata": {
        "colab": {
          "base_uri": "https://localhost:8080/"
        },
        "id": "iyBNOySSh0An",
        "outputId": "12aefd52-2dec-4503-b9e9-3ce4d6f66124"
      },
      "execution_count": null,
      "outputs": [
        {
          "output_type": "stream",
          "name": "stdout",
          "text": [
            "[2, 3]\n",
            "[1, 2]\n"
          ]
        }
      ]
    },
    {
      "cell_type": "code",
      "source": [
        "#13) pow(n,x)\n",
        "class Solution:\n",
        "    def myPow(self, x: float, n: int) -> float:\n",
        "        if n == 0:\n",
        "            return 1\n",
        "        if n < 0:\n",
        "            return 1 / self.myPow(x, -n)\n",
        "\n",
        "        half = self.myPow(x, n // 2)\n",
        "        if n % 2 == 0:\n",
        "            return half * half\n",
        "        else:\n",
        "            return half * half * x\n",
        "sol = Solution()\n",
        "print(sol.myPow(2.0, 10))   # 1024.0\n",
        "print(sol.myPow(2.1, 3))    # 9.261\n",
        "print(sol.myPow(2.0, -2))   # 0.25\n"
      ],
      "metadata": {
        "colab": {
          "base_uri": "https://localhost:8080/"
        },
        "id": "2YlXdNEHknGX",
        "outputId": "d06851a0-25b0-4f0a-abd9-d8f0ad71c495"
      },
      "execution_count": null,
      "outputs": [
        {
          "output_type": "stream",
          "name": "stdout",
          "text": [
            "1024.0\n",
            "9.261000000000001\n",
            "0.25\n"
          ]
        }
      ]
    },
    {
      "cell_type": "code",
      "source": [
        "#16.\tGrid Unique Paths\n",
        "class Solution:\n",
        "    def uniquePaths(self, m: int, n: int) -> int:\n",
        "        # Initialize dp array with 1s because first row and first col paths = 1\n",
        "        dp = [[1] * n for _ in range(m)]\n",
        "\n",
        "        # Calculate number of paths for each cell\n",
        "        for i in range(1, m):\n",
        "            for j in range(1, n):\n",
        "                dp[i][j] = dp[i-1][j] + dp[i][j-1]\n",
        "\n",
        "        return dp[m-1][n-1]\n",
        "sol = Solution()\n",
        "print(sol.uniquePaths(3, 7))\n",
        "print(sol.uniquePaths(3, 2))\n"
      ],
      "metadata": {
        "id": "EvuujUDYlAnK",
        "colab": {
          "base_uri": "https://localhost:8080/"
        },
        "outputId": "685b8385-c917-4e05-c389-84b4958ecee9"
      },
      "execution_count": null,
      "outputs": [
        {
          "output_type": "stream",
          "name": "stdout",
          "text": [
            "28\n",
            "3\n"
          ]
        }
      ]
    },
    {
      "cell_type": "code",
      "source": [],
      "metadata": {
        "id": "mrU7ziRL84Ch"
      },
      "execution_count": null,
      "outputs": []
    },
    {
      "cell_type": "code",
      "source": [
        "#26) flattening od linked list\n",
        "# Node class\n",
        "class Node:\n",
        "    def __init__(self, data):\n",
        "        self.data = data\n",
        "        self.next = None\n",
        "        self.child = None\n",
        "\n",
        "# Merge two sorted linked lists using child pointer\n",
        "def merge(a, b):\n",
        "    if not a: return b\n",
        "    if not b: return a\n",
        "    if a.data < b.data:\n",
        "        a.child = merge(a.child, b)\n",
        "        return a\n",
        "    else:\n",
        "        b.child = merge(a, b.child)\n",
        "        return b\n",
        "\n",
        "# Flatten the multilevel linked list\n",
        "def flatten(head):\n",
        "    if not head or not head.next:\n",
        "        return head\n",
        "    head.next = flatten(head.next)\n",
        "    return merge(head, head.next)\n",
        "\n",
        "# Function to print flattened list\n",
        "def print_flattened(head):\n",
        "    while head:\n",
        "        print(head.data, end=\" \")\n",
        "        head = head.child\n",
        "    print()\n",
        "\n",
        "# ------------------------------\n",
        "# Sample multilevel linked list:\n",
        "# Main list: 5 -> 10 -> 19 -> 28\n",
        "# 5's child: 7 -> 8 -> 30\n",
        "# 10's child: 20\n",
        "# 19's child: 22 -> 50\n",
        "# 28's child: 35 -> 40 -> 45\n",
        "\n",
        "# Create nodes\n",
        "head = Node(5)\n",
        "n2 = Node(10)\n",
        "n3 = Node(19)\n",
        "n4 = Node(28)\n",
        "head.next = n2\n",
        "n2.next = n3\n",
        "n3.next = n4\n",
        "\n",
        "# Child lists\n",
        "head.child = Node(7)\n",
        "head.child.child = Node(8)\n",
        "head.child.child.child = Node(30)\n",
        "\n",
        "n2.child = Node(20)\n",
        "\n",
        "n3.child = Node(22)\n",
        "n3.child.child = Node(50)\n",
        "\n",
        "n4.child = Node(35)\n",
        "n4.child.child = Node(40)\n",
        "n4.child.child.child = Node(45)\n",
        "\n",
        "# Flatten and print\n",
        "flat_head = flatten(head)\n",
        "print_flattened(flat_head)\n",
        "\n"
      ],
      "metadata": {
        "colab": {
          "base_uri": "https://localhost:8080/"
        },
        "id": "9PblCGbC89eu",
        "outputId": "f4215fed-954a-4ed6-98d4-a369de53801b"
      },
      "execution_count": null,
      "outputs": [
        {
          "output_type": "stream",
          "name": "stdout",
          "text": [
            "5 7 8 10 19 20 22 28 30 35 40 45 50 \n"
          ]
        }
      ]
    },
    {
      "cell_type": "code",
      "source": [
        "#37.\tLRU\n",
        "from collections import OrderedDict\n",
        "\n",
        "class LRUCache:\n",
        "\n",
        "    def __init__(self, capacity: int):\n",
        "        self.cache = OrderedDict()\n",
        "        self.capacity = capacity\n",
        "\n",
        "    def get(self, key: int) -> int:\n",
        "        if key not in self.cache:\n",
        "            return -1\n",
        "        # move the key to the end (most recently used)\n",
        "        self.cache.move_to_end(key)\n",
        "        return self.cache[key]\n",
        "\n",
        "    def put(self, key: int, value: int) -> None:\n",
        "        if key in self.cache:\n",
        "            # update value and mark as recently used\n",
        "            self.cache.move_to_end(key)\n",
        "        self.cache[key] = value\n",
        "        if len(self.cache) > self.capacity:\n",
        "            # remove least recently used (first key)\n",
        "            self.cache.popitem(last=False)\n",
        "lru = LRUCache(2)\n",
        "lru.put(1, 1)\n",
        "lru.put(2, 2)\n",
        "print(lru.get(1))   # 1\n",
        "lru.put(3, 3)       # evicts key 2\n",
        "print(lru.get(2))   # -1\n",
        "lru.put(4, 4)       # evicts key 1\n",
        "print(lru.get(1))   # -1\n",
        "print(lru.get(3))   # 3\n",
        "print(lru.get(4))   # 4\n",
        "\n"
      ],
      "metadata": {
        "colab": {
          "base_uri": "https://localhost:8080/"
        },
        "id": "DyIcV1j4_hM0",
        "outputId": "ac1f3eb9-c4ba-4462-f6f2-6b9b07219662"
      },
      "execution_count": null,
      "outputs": [
        {
          "output_type": "stream",
          "name": "stdout",
          "text": [
            "1\n",
            "-1\n",
            "-1\n",
            "3\n",
            "4\n"
          ]
        }
      ]
    },
    {
      "cell_type": "code",
      "source": [
        "#38.\tLFU\n",
        "from collections import defaultdict, OrderedDict\n",
        "\n",
        "class LFUCache:\n",
        "\n",
        "    def __init__(self, capacity: int):\n",
        "        self.capacity = capacity\n",
        "        self.size = 0\n",
        "        self.min_freq = 0\n",
        "        self.key_to_val_freq = {}  # key -> (value, freq)\n",
        "        self.freq_to_keys = defaultdict(OrderedDict)  # freq -> {key: None}\n",
        "\n",
        "    def _update(self, key: int, value=None):\n",
        "        val, freq = self.key_to_val_freq[key]\n",
        "        if value is not None:\n",
        "            val = value\n",
        "\n",
        "        # Remove from current freq bucket\n",
        "        del self.freq_to_keys[freq][key]\n",
        "        if not self.freq_to_keys[freq]:\n",
        "            del self.freq_to_keys[freq]\n",
        "            if self.min_freq == freq:\n",
        "                self.min_freq += 1\n",
        "\n",
        "        # Add to next freq bucket\n",
        "        self.freq_to_keys[freq + 1][key] = None\n",
        "        self.key_to_val_freq[key] = (val, freq + 1)\n",
        "\n",
        "    def get(self, key: int) -> int:\n",
        "        if key not in self.key_to_val_freq:\n",
        "            return -1\n",
        "        self._update(key)\n",
        "        return self.key_to_val_freq[key][0]\n",
        "\n",
        "    def put(self, key: int, value: int) -> None:\n",
        "        if self.capacity == 0:\n",
        "            return\n",
        "\n",
        "        if key in self.key_to_val_freq:\n",
        "            # update value + frequency\n",
        "            self._update(key, value)\n",
        "            return\n",
        "\n",
        "        if self.size >= self.capacity:\n",
        "            # evict least freq, least recent\n",
        "            old_key, _ = self.freq_to_keys[self.min_freq].popitem(last=False)\n",
        "            del self.key_to_val_freq[old_key]\n",
        "            if not self.freq_to_keys[self.min_freq]:\n",
        "                del self.freq_to_keys[self.min_freq]\n",
        "            self.size -= 1\n",
        "\n",
        "        # insert new key\n",
        "        self.key_to_val_freq[key] = (value, 1)\n",
        "        self.freq_to_keys[1][key] = None\n",
        "        self.min_freq = 1\n",
        "        self.size += 1\n",
        "lfu = LFUCache(2)\n",
        "lfu.put(1, 1)\n",
        "lfu.put(2, 2)\n",
        "print(lfu.get(1))   # 1\n",
        "lfu.put(3, 3)       # evicts key 2 (freq 1, least recent)\n",
        "print(lfu.get(2))   # -1\n",
        "print(lfu.get(3))   # 3\n",
        "lfu.put(4, 4)       # evicts key 1 (freq 2 > freq 1 of 3)\n",
        "print(lfu.get(1))   # -1\n",
        "print(lfu.get(3))   # 3\n",
        "print(lfu.get(4))   # 4\n"
      ],
      "metadata": {
        "colab": {
          "base_uri": "https://localhost:8080/"
        },
        "id": "hFtwsZrA_yM8",
        "outputId": "2af9f7ca-9823-4d25-d233-5fb47bc5aec1"
      },
      "execution_count": null,
      "outputs": [
        {
          "output_type": "stream",
          "name": "stdout",
          "text": [
            "1\n",
            "-1\n",
            "3\n",
            "-1\n",
            "3\n",
            "4\n"
          ]
        }
      ]
    },
    {
      "cell_type": "code",
      "source": [
        "#39.\tFind next smallest element using stacks\n",
        "def nextSmallerElement(arr):\n",
        "    n = len(arr)\n",
        "    res = [-1] * n  # default NSE is -1\n",
        "    stack = []\n",
        "\n",
        "    for i in range(n - 1, -1, -1):  # traverse from right to left\n",
        "        while stack and stack[-1] >= arr[i]:\n",
        "            stack.pop()\n",
        "        if stack:\n",
        "            res[i] = stack[-1]\n",
        "        stack.append(arr[i])\n",
        "\n",
        "    return res\n",
        "\n",
        "# Example\n",
        "arr = [4, 8, 5, 2, 25]\n",
        "print(nextSmallerElement(arr))  # Output: [2, 5, 2, -1, -1]\n"
      ],
      "metadata": {
        "colab": {
          "base_uri": "https://localhost:8080/"
        },
        "id": "gZSx9p-W-uWq",
        "outputId": "4bf3c8bb-ed73-4490-d9a1-d02091ab2fa9"
      },
      "execution_count": null,
      "outputs": [
        {
          "output_type": "stream",
          "name": "stdout",
          "text": [
            "[2, 5, 2, -1, -1]\n"
          ]
        }
      ]
    },
    {
      "cell_type": "code",
      "source": [
        "#40.\tFind next largest element using queues\n",
        "from collections import deque\n",
        "\n",
        "class Solution:\n",
        "    def nextGreaterElement(self, nums1, nums2):\n",
        "        q = deque()   # will work like our monotonic decreasing queue\n",
        "        nge = {}\n",
        "\n",
        "        for num in nums2:\n",
        "            # maintain decreasing order in queue\n",
        "            while q and num > q[-1]:\n",
        "                nge[q.pop()] = num\n",
        "            q.append(num)\n",
        "\n",
        "        # elements left in queue have no greater element\n",
        "        while q:\n",
        "            nge[q.pop()] = -1\n",
        "\n",
        "        # build result for nums1\n",
        "        return [nge[num] for num in nums1]\n",
        "\n",
        "\n",
        "# Example\n",
        "nums1 = [4, 1, 2]\n",
        "nums2 = [1, 3, 4, 2]\n",
        "sol = Solution()\n",
        "print(sol.nextGreaterElement(nums1, nums2))  # Output: [-1, 3, -1]\n"
      ],
      "metadata": {
        "colab": {
          "base_uri": "https://localhost:8080/"
        },
        "id": "VgR5C-tw-0e-",
        "outputId": "ea13a31b-9cc5-4e26-e08d-1ed49f81272a"
      },
      "execution_count": null,
      "outputs": [
        {
          "output_type": "stream",
          "name": "stdout",
          "text": [
            "[-1, 3, -1]\n"
          ]
        }
      ]
    },
    {
      "cell_type": "code",
      "source": [
        "#41.\tGiven two numbers N and M, find the Nth root of M.\n",
        "#The nth root of a number M is defined as a number X when raised to the power N equals M.\n",
        "# If the 'nth root is not an integer, return -1.\n",
        "def nth_root(N, M):\n",
        "    X = round(M ** (1/N))  # compute N-th root\n",
        "    if X ** N == M:\n",
        "        return X\n",
        "    return -1\n",
        "\n",
        "# Example usage\n",
        "print(nth_root(3, 27))   # 3\n",
        "print(nth_root(2, 10))   # -1\n"
      ],
      "metadata": {
        "id": "IaDcnxdhuQdY"
      },
      "execution_count": null,
      "outputs": []
    },
    {
      "cell_type": "code",
      "source": [
        "#42.\tGiven an array of N integers. Every number in the array except one appears twice. Find the single number in the array.\n",
        "from typing import List\n",
        "\n",
        "def singleNumber(nums):\n",
        "    result = 0\n",
        "    for num in nums:\n",
        "        result ^= num  # XOR all numbers\n",
        "    return result\n",
        "\n",
        "# Example usage\n",
        "nums = [4, 1, 2, 1, 2]\n",
        "print(singleNumber(nums))  # Output: 4\n"
      ],
      "metadata": {
        "colab": {
          "base_uri": "https://localhost:8080/"
        },
        "id": "DgXT3Pvfw7YP",
        "outputId": "89c6c3db-4cd4-41b5-f812-b2df728a14ff"
      },
      "execution_count": null,
      "outputs": [
        {
          "output_type": "stream",
          "name": "stdout",
          "text": [
            "4\n"
          ]
        }
      ]
    },
    {
      "cell_type": "code",
      "source": [
        "#43.\tGiven an integer array arr of size N, sorted in ascending order (with distinct values) and a target value k.\n",
        "# Now the array is rotated at some pivot point unknown to you. Find the index at which k is present and if k is not present return -1.\n",
        "from typing import List\n",
        "\n",
        "def searchRotated(arr: List[int], k: int) -> int:\n",
        "    left, right = 0, len(arr) - 1\n",
        "\n",
        "    while left <= right:\n",
        "        mid = (left + right) // 2\n",
        "\n",
        "        if arr[mid] == k:\n",
        "            return mid\n",
        "\n",
        "        # Left half is sorted\n",
        "        if arr[left] <= arr[mid]:\n",
        "            if arr[left] <= k < arr[mid]:\n",
        "                right = mid - 1\n",
        "            else:\n",
        "                left = mid + 1\n",
        "        # Right half is sorted\n",
        "        else:\n",
        "            if arr[mid] < k <= arr[right]:\n",
        "                left = mid + 1\n",
        "            else:\n",
        "                right = mid - 1\n",
        "\n",
        "    return -1\n",
        "arr = [4,5,6,7,0,1,2]\n",
        "k = 0\n",
        "print(searchRotated(arr, k))  # Output: 4\n",
        "\n",
        "arr = [4,5,6,7,0,1,2]\n",
        "k = 3\n",
        "print(searchRotated(arr, k))  # Output: -1\n"
      ],
      "metadata": {
        "colab": {
          "base_uri": "https://localhost:8080/"
        },
        "id": "V4brA92qxAsx",
        "outputId": "5dad70a6-75f3-47ff-e090-2b94f04a62a0"
      },
      "execution_count": null,
      "outputs": [
        {
          "output_type": "stream",
          "name": "stdout",
          "text": [
            "4\n",
            "-1\n"
          ]
        }
      ]
    },
    {
      "cell_type": "code",
      "source": [
        "#44)Given two sorted arrays of size m and n respectively,\n",
        "#you are tasked with finding the element that would be at the kth position of the final sorted array.\n",
        "from typing import List\n",
        "\n",
        "def kthElement(arr1: List[int], arr2: List[int], k: int) -> int:\n",
        "    if len(arr1) > len(arr2):\n",
        "        arr1, arr2 = arr2, arr1  # Make sure arr1 is smaller\n",
        "\n",
        "    m, n = len(arr1), len(arr2)\n",
        "    left, right = max(0, k - n), min(k, m)\n",
        "\n",
        "    while left <= right:\n",
        "        cut1 = (left + right) // 2\n",
        "        cut2 = k - cut1\n",
        "\n",
        "        l1 = arr1[cut1-1] if cut1 > 0 else float('-inf')\n",
        "        l2 = arr2[cut2-1] if cut2 > 0 else float('-inf')\n",
        "        r1 = arr1[cut1] if cut1 < m else float('inf')\n",
        "        r2 = arr2[cut2] if cut2 < n else float('inf')\n",
        "\n",
        "        if l1 <= r2 and l2 <= r1:\n",
        "            return max(l1, l2)\n",
        "        elif l1 > r2:\n",
        "            right = cut1 - 1\n",
        "        else:\n",
        "            left = cut1 + 1\n",
        "arr1 = [2, 3, 6, 7, 9]\n",
        "arr2 = [1, 4, 8, 10]\n",
        "k = 5\n",
        "print(kthElement(arr1, arr2, k))  # Output: 6\n"
      ],
      "metadata": {
        "colab": {
          "base_uri": "https://localhost:8080/"
        },
        "id": "DLFdiLxK039y",
        "outputId": "deeac179-e1d4-4578-cb4a-140a99556e4e"
      },
      "execution_count": null,
      "outputs": [
        {
          "output_type": "stream",
          "name": "stdout",
          "text": [
            "6\n"
          ]
        }
      ]
    },
    {
      "cell_type": "code",
      "source": [
        "#45.\tYou are given a string s, partition it in such a way that every substring is a palindrome.\n",
        "# Return all such palindromic partitions of s.\n",
        "from typing import List\n",
        "\n",
        "\n",
        "class Solution:\n",
        "    def partition(self, s):\n",
        "        res = []\n",
        "\n",
        "        def backtrack(start, path):\n",
        "            if start == len(s):\n",
        "                res.append(path[:])\n",
        "                return\n",
        "            for end in range(start + 1, len(s) + 1):\n",
        "                if s[start:end] == s[start:end][::-1]:  # check palindrome directly\n",
        "                    backtrack(end, path + [s[start:end]])\n",
        "\n",
        "        backtrack(0, [])\n",
        "        return res\n",
        "\n",
        "# Example\n",
        "sol = Solution()\n",
        "s = \"aab\"\n",
        "print(sol.partition(s))\n",
        "# Output: [['a', 'a', 'b'], ['aa', 'b']]\n"
      ],
      "metadata": {
        "colab": {
          "base_uri": "https://localhost:8080/"
        },
        "id": "vrL6cFHY1qHS",
        "outputId": "c5bd0f1c-c813-4201-ed37-c816ac3c18a5"
      },
      "execution_count": null,
      "outputs": [
        {
          "output_type": "stream",
          "name": "stdout",
          "text": [
            "[['a', 'a', 'b'], ['aa', 'b']]\n"
          ]
        }
      ]
    },
    {
      "cell_type": "code",
      "source": [
        "#46.\tGiven an array, print all the sum of the subset generated from it, in the increasing order.\n",
        "def subsetSums(arr):\n",
        "    res = [0]  # start with empty subset sum\n",
        "\n",
        "    for num in arr:\n",
        "        # add current number to all existing sums\n",
        "        res += [num + s for s in res]\n",
        "\n",
        "    return sorted(res)\n",
        "\n",
        "# Example usage\n",
        "arr = [1, 2, 3]\n",
        "print(subsetSums(arr))\n",
        "# Output: [0, 1, 2, 3, 3, 4, 5, 6]\n"
      ],
      "metadata": {
        "colab": {
          "base_uri": "https://localhost:8080/"
        },
        "id": "6IYPt0eC1_Vg",
        "outputId": "23023779-d5f8-4a7a-f95a-cd01a9197707"
      },
      "execution_count": null,
      "outputs": [
        {
          "output_type": "stream",
          "name": "stdout",
          "text": [
            "[0, 1, 2, 3, 3, 4, 5, 6]\n"
          ]
        }
      ]
    },
    {
      "cell_type": "code",
      "source": [
        "#47.\tGiven an array of distinct integers and a target,\n",
        "#you have to return the list of all unique combinations where the chosen numbers sum to target.\n",
        "# You may return the combinations in any order.\n",
        "\n",
        "from typing import List\n",
        "\n",
        "def combinationSum(arr: List[int], target: int) -> List[List[int]]:\n",
        "    res = []\n",
        "\n",
        "    def backtrack(start, path, total):\n",
        "        if total == target:\n",
        "            res.append(path)\n",
        "            return\n",
        "        if total > target:\n",
        "            return\n",
        "        for i in range(start, len(arr)):\n",
        "            backtrack(i, path + [arr[i]], total + arr[i])\n",
        "\n",
        "    backtrack(0, [], 0)\n",
        "    return res\n",
        "\n",
        "# Example\n",
        "arr = [2, 3, 6, 7]\n",
        "target = 7\n",
        "print(combinationSum(arr, target))\n",
        "# Output: [[2, 2, 3], [7]]\n"
      ],
      "metadata": {
        "colab": {
          "base_uri": "https://localhost:8080/"
        },
        "id": "P8PpSsaY2wyu",
        "outputId": "49373a98-7383-45bc-8067-5525b9aed518"
      },
      "execution_count": null,
      "outputs": [
        {
          "output_type": "stream",
          "name": "stdout",
          "text": [
            "[[2, 2, 3], [7]]\n"
          ]
        }
      ]
    }
  ]
}